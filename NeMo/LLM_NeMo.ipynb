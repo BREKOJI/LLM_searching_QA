{
 "cells": [
  {
   "cell_type": "markdown",
   "id": "a4670162-e0cc-4ab1-bdb6-b208907e08a8",
   "metadata": {},
   "source": [
    "### 0.导入Nemo工具库及相关工具类"
   ]
  },
  {
   "cell_type": "code",
   "execution_count": null,
   "id": "18517002",
   "metadata": {},
   "outputs": [],
   "source": [
    "import nemo\n",
    "import nemo.collections.asr as nemo_asr\n",
    "import nemo.collections.tts as nemo_tts"
   ]
  },
  {
   "cell_type": "code",
   "execution_count": null,
   "id": "6fde8afd-0c2f-433e-8dff-c37c3d7e6182",
   "metadata": {},
   "outputs": [],
   "source": [
    "import librosa\n",
    "import IPython.display as ipd\n",
    "\n",
    "# Load and listen to the audio file\n",
    "example_file = \"/root/ms_chatbot/test.wav\"\n",
    "audio, sample_rate = librosa.load(example_file)\n",
    "ipd.Audio(example_file, rate=sample_rate)"
   ]
  },
  {
   "cell_type": "markdown",
   "id": "ebcf03ed",
   "metadata": {},
   "source": [
    "###  1.构建机器的“耳朵”实现听写的过程\n",
    "\n",
    "#### 加载语音识别模型"
   ]
  },
  {
   "cell_type": "code",
   "execution_count": null,
   "id": "535fff08",
   "metadata": {
    "scrolled": true
   },
   "outputs": [],
   "source": [
    "citrinet = nemo_asr.models.EncDecCTCModel.from_pretrained(model_name=\"stt_zh_citrinet_512\")# 加载ASR语音识别预训练模型"
   ]
  },
  {
   "cell_type": "markdown",
   "id": "a2ef1bd4",
   "metadata": {},
   "source": [
    "#### 传入语音文件进行语音识别"
   ]
  },
  {
   "cell_type": "code",
   "execution_count": null,
   "id": "b8f07d3a",
   "metadata": {},
   "outputs": [],
   "source": [
    "asr_result = citrinet.transcribe(paths2audio_files=[\"test.wav\"])\n",
    "asr_result = \" \".join(asr_result)\n",
    "print(asr_result)"
   ]
  },
  {
   "cell_type": "markdown",
   "id": "13678234",
   "metadata": {},
   "source": [
    "### 2.构建机器的“大脑” 实现聊天的过程"
   ]
  },
  {
   "cell_type": "code",
   "execution_count": null,
   "id": "a49c7932-cc3d-409f-b578-f25f7597fae2",
   "metadata": {},
   "outputs": [],
   "source": [
    "from transformers import AutoTokenizer, AutoModel\n",
    "tokenizer = AutoTokenizer.from_pretrained(\"THUDM/chatglm3-6b\", trust_remote_code=True)\n",
    "model = AutoModel.from_pretrained(\"THUDM/chatglm3-6b\", trust_remote_code=True).quantize(8).cuda()\n",
    "model = model.eval()\n",
    "response, history = model.chat(tokenizer, asr_result+\"10个字以内\", history=[])\n",
    "print(response)"
   ]
  },
  {
   "cell_type": "markdown",
   "id": "20a79afd",
   "metadata": {},
   "source": [
    "### 3.构建机器的“嘴巴”将文字用声音说出来"
   ]
  },
  {
   "cell_type": "code",
   "execution_count": null,
   "id": "52a32935",
   "metadata": {},
   "outputs": [],
   "source": [
    "from nemo.collections.tts.models import FastPitchModel\n",
    "from matplotlib.pyplot import imshow\n",
    "from matplotlib import pyplot as plt"
   ]
  },
  {
   "cell_type": "markdown",
   "id": "f04cb010",
   "metadata": {},
   "source": [
    "#### 加载fastpitch声学模型"
   ]
  },
  {
   "cell_type": "code",
   "execution_count": null,
   "id": "d11ee5b1",
   "metadata": {
    "scrolled": true,
    "tags": []
   },
   "outputs": [],
   "source": [
    "spec_generator = FastPitchModel.from_pretrained(model_name=\"tts_zh_fastpitch_sfspeech\")"
   ]
  },
  {
   "cell_type": "code",
   "execution_count": null,
   "id": "7d4f0333-9162-48a1-889c-936f81d74328",
   "metadata": {},
   "outputs": [],
   "source": [
    "response"
   ]
  },
  {
   "cell_type": "markdown",
   "id": "37f98f21",
   "metadata": {},
   "source": [
    "#### 通过Fastpitch声学模型将文字转换成对应频谱图"
   ]
  },
  {
   "cell_type": "code",
   "execution_count": null,
   "id": "cf6b2ba1",
   "metadata": {},
   "outputs": [],
   "source": [
    "parsed = spec_generator.parse(response)\n",
    "spectrogram = spec_generator.generate_spectrogram(tokens=parsed)#调用模型的generate_spectrogram函数生成频谱图\n",
    "imshow(spectrogram.cpu().detach().numpy()[0,...], origin=\"lower\")#将Tensor转换为numpy array进行可视化\n",
    "plt.show() #matplotlib展示文字对应的频谱图"
   ]
  },
  {
   "cell_type": "markdown",
   "id": "3dd0ad47",
   "metadata": {},
   "source": [
    "#### 加载HiFigan声码器模型"
   ]
  },
  {
   "cell_type": "code",
   "execution_count": null,
   "id": "cf0b93b7",
   "metadata": {
    "scrolled": true,
    "tags": []
   },
   "outputs": [],
   "source": [
    "from nemo.collections.tts.models import HifiGanModel\n",
    "Hifigan = HifiGanModel.restore_from(\"tts_hifigan.nemo\")"
   ]
  },
  {
   "cell_type": "markdown",
   "id": "f92eac51",
   "metadata": {},
   "source": [
    "#### 使用HiFigan声码器将频谱图合成出语音"
   ]
  },
  {
   "cell_type": "code",
   "execution_count": null,
   "id": "7c8c9902",
   "metadata": {},
   "outputs": [],
   "source": [
    "import IPython\n",
    "audio = Hifigan.convert_spectrogram_to_audio(spec=spectrogram) #调用模型convert_spectrogram_to_audio()函数进行频谱到音频文件的转换\n",
    "IPython.display.Audio(audio.to('cpu').detach().numpy(), rate=22050)"
   ]
  },
  {
   "cell_type": "markdown",
   "id": "88d6ae2c",
   "metadata": {},
   "source": [
    "---"
   ]
  }
 ],
 "metadata": {
  "kernelspec": {
   "display_name": "Python 3 (ipykernel)",
   "language": "python",
   "name": "python3"
  },
  "language_info": {
   "codemirror_mode": {
    "name": "ipython",
    "version": 3
   },
   "file_extension": ".py",
   "mimetype": "text/x-python",
   "name": "python",
   "nbconvert_exporter": "python",
   "pygments_lexer": "ipython3",
   "version": "3.10.9"
  }
 },
 "nbformat": 4,
 "nbformat_minor": 5
}
